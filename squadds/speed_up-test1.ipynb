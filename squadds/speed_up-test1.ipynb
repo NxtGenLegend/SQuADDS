{
 "cells": [
  {
   "cell_type": "code",
   "execution_count": 5,
   "metadata": {},
   "outputs": [
    {
     "name": "stdout",
     "output_type": "stream",
     "text": [
      "Selected qubit:  TransmonCross\n",
      "Selected cavity:  RouteMeander\n",
      "Selected coupler to feedline:  NCap\n",
      "Selected resonator type:  half\n",
      "Selected system:  ['qubit', 'cavity_claw']\n",
      "Using 12 chunks for parallel processing\n",
      "Time taken to add the coupled H params: 1699.0954365730286 seconds\n",
      "Using 12 CPUs for parallel processing\n"
     ]
    },
    {
     "name": "stderr",
     "output_type": "stream",
     "text": [
      "WARNING:py.warnings:SettingWithCopyWarning: \n",
      "A value is trying to be set on a copy of a slice from a DataFrame.\n",
      "Try using .loc[row_indexer,col_indexer] = value instead\n",
      "\n",
      "See the caveats in the documentation: https://pandas.pydata.org/pandas-docs/stable/user_guide/indexing.html#returning-a-view-versus-a-copy\n",
      " c:\\Users\\skjet\\Downloads\\LFL SQuADDS\\SQuADDS Repo\\SQuADDS\\squadds\\core\\analysis.py: 428\n"
     ]
    },
    {
     "name": "stdout",
     "output_type": "stream",
     "text": [
      "                                design_options_qubit design_tool_qubit  \\\n",
      "0  {'aedt_hfss_capacitance': 0, 'aedt_hfss_induct...      qiskit-metal   \n",
      "\n",
      "                              renderer_options_qubit  \\\n",
      "0  {'Cj': 0, 'Lj': '10nH', '_Rj': 0, 'design_name...   \n",
      "\n",
      "                                         setup_qubit simulator_qubit  \\\n",
      "0  {'auto_increase_solution_order': True, 'enable...      Ansys HFSS   \n",
      "\n",
      "   claw_to_claw  claw_to_ground  cross_to_claw  cross_to_cross  \\\n",
      "0      91.53616        85.40247        5.61363       101.76782   \n",
      "\n",
      "   cross_to_ground  ...  design_tool_cavity_claw resonator_type  \\\n",
      "0        101.76782  ...             Qiskit Metal           half   \n",
      "\n",
      "      PI_cavity_claw date_created_cavity_claw group_cavity_claw  \\\n",
      "0  Eli Levenson-Falk        2024-02-26 230413               LFL   \n",
      "\n",
      "  institution_cavity_claw misc uploader_cavity_claw  index_cplr  \\\n",
      "0                     USC                 Andre Kuo         283   \n",
      "\n",
      "                                      design_options  \n",
      "0  {'cavity_claw_options': {'coupler_type': 'NCap...  \n",
      "\n",
      "[1 rows x 37 columns]\n"
     ]
    }
   ],
   "source": [
    "from squadds import SQuADDS_DB\n",
    "from core.analysis import Analyzer\n",
    "\n",
    "db = SQuADDS_DB()\n",
    "db.select_system([\"qubit\", \"cavity_claw\"])\n",
    "db.select_qubit(\"TransmonCross\")\n",
    "db.select_cavity_claw(\"RouteMeander\")\n",
    "db.select_resonator_type(\"half\")\n",
    "db.show_selections()\n",
    "half_df = db.create_system_df()\n",
    "\n",
    "analyzer_hdf = Analyzer(db)  # Pass the configured db instance\n",
    "\n",
    "target_params = {\n",
    "                \"qubit_frequency_GHz\": 4,\n",
    "                \"cavity_frequency_GHz\": 9.2,\n",
    "                \"kappa_kHz\": 80,\n",
    "                \"resonator_type\":\"half\",\n",
    "                \"anharmonicity_MHz\": -200,\n",
    "                \"g_MHz\": 70}\n",
    "\n",
    "results_hdf = analyzer_hdf.find_closest(target_params=target_params, num_top=1, metric=\"Euclidean\", parallel=True, num_cpu=\"auto\")\n",
    "print(results_hdf)\n"
   ]
  }
 ],
 "metadata": {
  "kernelspec": {
   "display_name": "qiskit-metalenv",
   "language": "python",
   "name": "python3"
  },
  "language_info": {
   "codemirror_mode": {
    "name": "ipython",
    "version": 3
   },
   "file_extension": ".py",
   "mimetype": "text/x-python",
   "name": "python",
   "nbconvert_exporter": "python",
   "pygments_lexer": "ipython3",
   "version": "3.11.9"
  }
 },
 "nbformat": 4,
 "nbformat_minor": 2
}
