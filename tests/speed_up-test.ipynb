{
 "cells": [
  {
   "cell_type": "code",
   "execution_count": 1,
   "metadata": {},
   "outputs": [
    {
     "data": {
      "application/vnd.jupyter.widget-view+json": {
       "model_id": "fd22a323c5364c8ba79e86a8c00ff2de",
       "version_major": 2,
       "version_minor": 0
      },
      "text/plain": [
       "Downloading readme:   0%|          | 0.00/2.48k [00:00<?, ?B/s]"
      ]
     },
     "metadata": {},
     "output_type": "display_data"
    },
    {
     "name": "stdout",
     "output_type": "stream",
     "text": [
      "Selected qubit:  TransmonCross\n",
      "Selected cavity:  RouteMeander\n",
      "Selected coupler to feedline:  NCap\n",
      "Selected resonator type:  half\n",
      "Selected system:  ['qubit', 'cavity_claw']\n",
      "Using 12 chunks for parallel processing\n",
      "Time taken to add the coupled H params: 1994.6248109340668 seconds\n",
      "Using 12 CPUs for parallel processing\n"
     ]
    },
    {
     "name": "stderr",
     "output_type": "stream",
     "text": [
      "WARNING:py.warnings:SettingWithCopyWarning: \n",
      "A value is trying to be set on a copy of a slice from a DataFrame.\n",
      "Try using .loc[row_indexer,col_indexer] = value instead\n",
      "\n",
      "See the caveats in the documentation: https://pandas.pydata.org/pandas-docs/stable/user_guide/indexing.html#returning-a-view-versus-a-copy\n",
      " c:\\Users\\skjet\\anaconda3\\envs\\qiskit-metalenv\\Lib\\site-packages\\squadds\\core\\analysis.py: 432\n"
     ]
    },
    {
     "name": "stdout",
     "output_type": "stream",
     "text": [
      "   index_qc  claw_to_claw_closest  claw_to_ground_closest  \\\n",
      "0       254             91.536163               85.402473   \n",
      "\n",
      "   cross_to_claw_closest  cross_to_cross_closest  cross_to_ground_closest  \\\n",
      "0                5.61363              101.767822               101.767822   \n",
      "\n",
      "   ground_to_ground_closest  claw_length_closest  index_cc_closest  \\\n",
      "0                239.397263                160.0               636   \n",
      "\n",
      "   cavity_frequency_GHz  ...  design_tool_cavity_claw  resonator_type  \\\n",
      "0              8.954274  ...             Qiskit Metal            half   \n",
      "\n",
      "      PI_cavity_claw  date_created_cavity_claw  group_cavity_claw  \\\n",
      "0  Eli Levenson-Falk         2024-02-26 230413                LFL   \n",
      "\n",
      "   institution_cavity_claw  misc  uploader_cavity_claw  index_cplr_merged  \\\n",
      "0                      USC                   Andre Kuo                283   \n",
      "\n",
      "                                      design_options  \n",
      "0  {'cavity_claw_options': {'coupler_type': 'NCap...  \n",
      "\n",
      "[1 rows x 63 columns]\n"
     ]
    }
   ],
   "source": [
    "from squadds import Analyzer, SQuADDS_DB\n",
    "\n",
    "db = SQuADDS_DB()\n",
    "db.select_system([\"qubit\", \"cavity_claw\"])\n",
    "db.select_qubit(\"TransmonCross\")\n",
    "db.select_cavity_claw(\"RouteMeander\")\n",
    "db.select_resonator_type(\"half\")\n",
    "db.show_selections()\n",
    "half_df = db.create_system_df()\n",
    "\n",
    "analyzer_hdf = Analyzer(db)  # Pass the configured db instance\n",
    "\n",
    "target_params = {\n",
    "                \"qubit_frequency_GHz\": 4,\n",
    "                \"cavity_frequency_GHz\": 9.2,\n",
    "                \"kappa_kHz\": 80,\n",
    "                \"resonator_type\":\"half\",\n",
    "                \"anharmonicity_MHz\": -200,\n",
    "                \"g_MHz\": 70}\n",
    "\n",
    "results_hdf = analyzer_hdf.find_closest(target_params=target_params, num_top=1, metric=\"Euclidean\", parallel=True, num_cpu=\"auto\")\n",
    "\n",
    "print(results_hdf)"
   ]
  },
  {
   "cell_type": "code",
   "execution_count": null,
   "metadata": {},
   "outputs": [],
   "source": []
  }
 ],
 "metadata": {
  "kernelspec": {
   "display_name": "qiskit-metalenv",
   "language": "python",
   "name": "python3"
  },
  "language_info": {
   "codemirror_mode": {
    "name": "ipython",
    "version": 3
   },
   "file_extension": ".py",
   "mimetype": "text/x-python",
   "name": "python",
   "nbconvert_exporter": "python",
   "pygments_lexer": "ipython3",
   "version": "3.11.9"
  }
 },
 "nbformat": 4,
 "nbformat_minor": 2
}
